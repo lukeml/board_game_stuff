


import pandas as pd
import numpy as np

import matplotlib.pyplot as plt
import seaborn as sns

from scipy import stats
from scipy.spatial.distance import pdist

from itertools import combinations


csv_file_path = "DFL Game Ratings - Sheet1.csv"


df = pd.read_csv(csv_file_path, header=0, usecols=range(5), index_col=None)


df.head()


df['Average'] = df[['Dennis', 'Fabiano', 'Luke']].mean(axis=1)


df.head()


# Extract year and month from the date (assuming dd-mmm-yyyy format)
df['Year-Month'] = pd.to_datetime(df['Date'], format='%d-%b-%Y').dt.strftime('%Y-%m')



df.head()


# Group by year-month, sort by average rating (descending), and get the first game (highest average)
top_games_per_month = df.groupby('Year-Month')['Average'].apply(
    lambda x: x.sort_values(ascending=False).index[0]
)

# Merge with original DataFrame to get game names based on index
top_games_df = df.loc[top_games_per_month.values]


top_games_df.head()


# Print the DataFrame showing top games per month (including year)
print(top_games_df[['Game', 'Year-Month']])  # Select only Game and Year-Month columns


df.head()


df['Game'].value_counts()


# game_name_counts = df['Game'].value_counts()
game_name_counts = df['Game'].value_counts().sort_index(ascending=True)

# Print all elements without truncation
print(game_name_counts.to_string())


print(df['Game'].value_counts().to_string())


# Extract year or month from the date (assuming dd-mmm-yyyy format)
# Choose year ('%Y') or month ('%m') based on your desired granularity
df['Time Period'] = pd.to_datetime(df['Date'], format='%d-%b-%Y').dt.strftime('%Y')  # Adjust format if needed



df.head()


# Count games by time period
games_per_period = df.groupby('Time Period')['Game'].count()



# Create the plot
plt.figure(figsize=(10, 6))  # Adjust figure size as desired
plt.plot(games_per_period.index, games_per_period.values)
plt.xlabel('Time Period (Year)')  # Adjust label based on chosen format ('Year' or 'Month')
plt.ylabel('Number of Games')
plt.title('Number of Games per Time Period')
plt.xticks(rotation=45)  # Rotate x-axis labels for readability if needed
plt.grid(True)

# Show the plot
plt.show()


# Extract month from the date (assuming dd-mmm-yyyy format)
df['Month'] = pd.to_datetime(df['Date'], format='%d-%b-%Y').dt.month_name()



# Count games by month
games_per_month = df.groupby('Month')['Game'].count()



# Create the plot (adjust figure size as desired)
plt.figure(figsize=(12, 6))

# Use bar chart for monthly data
plt.bar(games_per_month.index, games_per_month.values)

# Customize labels and title
plt.xlabel('Month')
plt.ylabel('Number of Games')
plt.title('Number of Games per Month')

# Rotate x-axis labels if needed for readability
plt.xticks(rotation=45, ha='right')  # Right-align rotated labels

# Grid on y-axis
plt.grid(axis='y')

# Show the plot
plt.show()


# Extract year and month from the date (assuming dd-mmm-yyyy format)
df['Year-Month'] = pd.to_datetime(df['Date'], format='%d-%b-%Y').dt.strftime('%Y-%m')



# Count games by year-month
games_per_year_month = df.groupby('Year-Month')['Game'].count()


# Create the plot (adjust figure size as desired)
plt.figure(figsize=(15, 6))  # Adjust based on the number of months

# Use bar chart for monthly data
plt.bar(games_per_year_month.index, games_per_year_month.values)

# Customize labels and title
plt.xlabel('Year-Month')
plt.ylabel('Number of Games')
plt.title('Number of Games per Month (Year-Month Combination)')

# Rotate x-axis labels if needed for readability (optional)
plt.xticks(rotation=45, ha='right')  # Uncomment if needed

# Grid on y-axis
plt.grid(axis='y')

# Show the plot with potentially long x-axis labels
plt.tight_layout()  # Adjust layout to prevent overlapping elements

# Show the plot
plt.show()


df.head()


df[['Game', 'Dennis']]





def get_top_10_games(df, player_name):
  """
  This function takes a DataFrame and a player name as input.
  The DataFrame is assumed to have separate rating columns for each player 
  (e.g., 'Player 1 Rating', 'Player 2 Rating'). It returns the top games for 
  the specified player based on their highest rating for each unique game.

  Args:
      df (pandas.DataFrame): The DataFrame containing game data 
                             with separate player rating columns.
      player_name (str): The name of the player for whom to find top games.

  Returns:
      pandas.DataFrame: A DataFrame containing the top games for the 
                        specified player, sorted by their highest rating.
  """

  # Select columns containing game and the specified player's rating
  player_data = df.loc[:,['Game', player_name]]

  # Rename the player rating column for clarity (optional)
  player_data.rename(columns={player_name: f'{player_name} Rating'}, inplace=True)

  # Group by game and select the row with the maximum rating for each game
  top_games_per_player = player_data.groupby('Game')[f'{player_name} Rating'].max().reset_index()

  # Sort by player's rating (descending) and select top 10 (or all if less than 10)
  top_games = top_games_per_player.sort_values(by=f'{player_name} Rating', ascending=False)
  return top_games.head(10)



get_top_10_games(df, 'Dennis')


get_top_10_games(df, 'Fabiano')



get_top_10_games(df, 'Luke')









# Select columns containing game and the specified player's rating
player_name = "Luke"  # Replace with the player name of interest
player_data = df[['Game', player_name]]


player_data.head()


# Group data by game and find the maximum rating for each game
top_games_per_player = player_data.groupby('Game')[f'{player_name}'].max().reset_index()
top_games_per_player


# Sort by player's rating (descending) and select top 10 (or all if less than 10)
top_games = top_games_per_player.sort_values(by=f'{player_name}', ascending=False)
top_games = top_games.head(10)  # Select top 10 (adjust for all if needed)

top_games  # Print the top games DataFrame


def get_top_10_plus_games(df, player_name):
  """
  This function takes a DataFrame and a player name as input.
  The DataFrame is assumed to have separate rating columns for each player 
  (e.g., 'Player 1 Rating', 'Player 2 Rating'). It returns the top games for 
  the specified player based on their highest rating for each unique game, 
  ensuring all games with the same rating at the 10th position (or later) 
  are included.

  Args:
      df (pandas.DataFrame): The DataFrame containing game data 
                             with separate player rating columns.
      player_name (str): The name of the player for whom to find top games.

  Returns:
      pandas.DataFrame: A DataFrame containing the top games for the 
                        specified player, sorted by their highest rating.
  """

  # Select columns containing game and the specified player's rating
  player_data = df.loc[:,['Game', player_name]]

  # Rename the player rating column for clarity (optional)
  player_data.rename(columns={player_name: f'{player_name}'}, inplace=True)

  # Group by game and select the row with the maximum rating for each game
  top_games_per_player = player_data.groupby('Game')[f'{player_name}'].max().reset_index()

  # Sort by player's rating (descending)
  top_games = top_games_per_player.sort_values(by=f'{player_name}', ascending=False)

  # Find the rating at the 10th position (or lower if fewer than 10 games)
  top_10th_rating = top_games.iloc[min(9, len(top_games) - 1), top_games.columns.get_loc(f'{player_name}')]

  # Filter games with rating equal to or higher than the 10th position
  top_games = top_games[top_games[f'{player_name}'] >= top_10th_rating]

  # Reset index and assign ranking (1 to n)
  top_games = top_games.reset_index(drop=True).assign(Rank=range(1, len(top_games) + 1))

  # Set 'Rank' as the index
  top_games = top_games.set_index('Rank')

  return top_games



get_top_10_plus_games(df, 'Dennis')


get_top_10_plus_games(df, 'Fabiano')


get_top_10_plus_games(df, 'Luke')


df.head()


get_top_10_plus_games(df, 'Average')


df[df['Game']=='King of Monster Island']


players = ['Dennis', 'Fabiano', 'Luke']



# Create the line plot
plt.figure(figsize=(10, 6))  # Adjust figure size as desired

for player in players:
    plt.plot(df[player], label=player)

# Add labels and title
plt.xlabel('Games Played')
plt.ylabel('Rating')
plt.title('Player Rating Distribution')

# Add legend to differentiate player lines
plt.legend()

# Show the plot
plt.grid(True)  # Optional: Add gridlines
plt.show()


# Define a list of player names (assuming these exist in your DataFrame)
players = ['Dennis', 'Fabiano', 'Luke']  # Adjust player names as needed

# Create the plot
plt.figure(figsize=(10, 6))  # Adjust figure size as desired

# Loop through players and plot KDE
for player in players:
  # Extract ratings for the current player
  ratings = df[player]

  # Use KDE to estimate the probability density
  density = plt.hist(ratings, density=True, bins=20, alpha=0.5, label=player)  # Adjust bins for smoothness

  # Adjust x-axis limits to 0-10 (assuming ratings are within this range)
  plt.xlim(0, 10)

# Add labels and title
plt.xlabel('Rating')
plt.ylabel('Probability Density')
plt.title('Distribution of Player Ratings (KDE)')

# Add legend to differentiate players
plt.legend()

# Show the plot
plt.grid(True)  # Optional: Add gridlines
plt.show()



# Create the plot
plt.figure(figsize=(10, 6))  # Adjust figure size as desired

players = ['Dennis', 'Fabiano', 'Luke'] 
colors = ['red', 'green', 'blue']

# Loop through players and plot smoothed distribution
for i, player in enumerate(players):
  # Extract ratings for the current player
  ratings = df[player].dropna() # need to drop for gaussian_kde

  # Use kernel smoothing to estimate the density
  density = stats.gaussian_kde(ratings)  # Gaussian kernel
  x = np.linspace(min(ratings), max(ratings), 100)  # Range and number of points
  y = density(x)  # Evaluate density at points

  # Plot the smoothed curve
  plt.plot(x, y, label=player, color=colors[i])

# Add labels and title
plt.xlabel('Rating')
plt.ylabel('Probability Density')
plt.title('Distribution of Player Ratings (Kernel Smoothed)')
plt.legend()



# Define a list of player names (assuming these exist in your DataFrame)
players = ['Dennis', 'Fabiano', 'Luke']  # Adjust player names as needed
custom_palette = ['red', 'green', 'cyan']

# Create the violin plot
sns.set_theme(style="darkgrid")  # Optional: Set theme for aesthetics

# Create a violin plot with hue for players
sns.violinplot(
    data=df[players],
    palette=custom_palette
)

# Rotate x labels to prevent overlapping (optional)
plt.xticks(rotation=45)  # You can adjust the rotation angle

# Add title
plt.title('Distribution of Player Ratings')

# Show the plot
plt.show()



# Create a custom color list
custom_palette = ['red', 'green', 'cyan']

# Create a box plot with hue for players
# sns.boxplot(data = df[players])
sns.boxplot(
    data=df[players],
    palette=custom_palette
)


# Rotate x labels to prevent overlapping (optional)
plt.xticks(rotation=45)  # You can adjust the rotation angle

# Add title
plt.title('Distribution of Player Ratings')

# Show the plot
plt.show()






df.head()





def top_10_games(df, player1, player2, num_games=10):
    # Check if the player columns exist in the dataframe
    if player1 not in df.columns or player2 not in df.columns:
        raise ValueError(f"One or both player names {player1}, {player2} are not in the dataframe")
    
    # Create a copy of the dataframe to avoid modifying the original
    df_copy = df.copy()
    
    # Calculate the average rating for the two specified players
    df_copy['AverageRating'] = df_copy[[player1, player2]].mean(axis=1)
    
    # Group by 'Game' and calculate the mean of 'AverageRating'
    avg_rating_per_game = df_copy.groupby('Game')['AverageRating'].mean().reset_index()
    
    # Sort the games by average rating in descending order and get the top 10
    top_n_games = avg_rating_per_game.sort_values(by='AverageRating', ascending=False).head(num_games)

    # Reset the index of the resulting dataframe
    top_n_games.reset_index(drop=True, inplace=True)
    
    return top_n_games




top_10_games(df, 'Dennis', 'Fabiano')


df.head()


top_10_games(df, 'Dennis', 'Luke')


top_10_games(df, 'Fabiano', 'Luke')


def euclidean_distance_between_players(df):
    players = df.columns[2:5]  # Assuming the first two columns are 'Game' and 'Date'
    num_players = len(players)
    distance_matrix = pd.DataFrame(np.zeros((num_players, num_players)), index=players, columns=players)

    for i in range(num_players):
        for j in range(i+1, num_players):
            player1 = players[i]
            player2 = players[j]
            
            # Select the rows where both players have non-NaN ratings
            valid_ratings = df[[player1, player2]].dropna()
            
            # Ensure ratings are numeric
            valid_ratings = valid_ratings.apply(pd.to_numeric, errors='coerce').dropna()
            
            # Calculate the Euclidean distance only if there are valid ratings
            if not valid_ratings.empty:
                distance = np.linalg.norm(valid_ratings[player1] - valid_ratings[player2])
            else:
                distance = np.nan  # If no valid ratings, distance is not defined
            
            # Fill the distance matrix (symmetric)
            distance_matrix.at[player1, player2] = distance
            distance_matrix.at[player2, player1] = distance
    
    return distance_matrix




distance_matrix = euclidean_distance_between_players(df)
print(distance_matrix)



